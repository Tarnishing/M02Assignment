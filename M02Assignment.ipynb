{
 "cells": [
  {
   "cell_type": "code",
   "execution_count": 9,
   "metadata": {},
   "outputs": [
    {
     "name": "stdout",
     "output_type": "stream",
     "text": [
      "too low\n"
     ]
    }
   ],
   "source": [
    "secret = 7\n",
    "\n",
    "guess = 4\n",
    "\n",
    "if guess > secret:\n",
    "    print('too high')\n",
    "elif guess < secret:\n",
    "    print('too low')\n",
    "elif guess == secret:\n",
    "    print('Just Right')\n"
   ]
  },
  {
   "cell_type": "code",
   "execution_count": 10,
   "metadata": {},
   "outputs": [
    {
     "name": "stdout",
     "output_type": "stream",
     "text": [
      "It's a pea.\n"
     ]
    }
   ],
   "source": [
    "green = True\n",
    "small = True\n",
    "if green:\n",
    "    if small:\n",
    "       print(\"It's a pea.\")\n",
    "    else:\n",
    "        print(\"It's a watermelon!\")\n",
    "else:\n",
    "    if large:\n",
    "        print(\"It's a pumpkin!\")\n",
    "    else:\n",
    "        print(\"It's a cherry.\")"
   ]
  },
  {
   "cell_type": "code",
   "execution_count": 11,
   "metadata": {},
   "outputs": [
    {
     "name": "stdout",
     "output_type": "stream",
     "text": [
      "3\n",
      "2\n",
      "1\n",
      "0\n"
     ]
    }
   ],
   "source": [
    "for x in (3, 2, 1,0):\n",
    "    print(x)"
   ]
  },
  {
   "cell_type": "code",
   "execution_count": 12,
   "metadata": {},
   "outputs": [
    {
     "name": "stdout",
     "output_type": "stream",
     "text": [
      "too low\n",
      "too low\n",
      "too low\n",
      "too low\n",
      "too low\n",
      "too low\n",
      "found it!\n"
     ]
    }
   ],
   "source": [
    "guessme = 7\n",
    "\n",
    "number = 1\n",
    "\n",
    "while (number != guessme): \n",
    "\n",
    "    if number < guessme:\n",
    "        print(\"too low\")\n",
    "        number+=1\n",
    "    if(number == guessme):\n",
    "        print(\"found it!\")\n",
    "        break\n",
    "    elif(number>guessme):\n",
    "        print(\"oops\")\n",
    "        break"
   ]
  },
  {
   "cell_type": "code",
   "execution_count": 13,
   "metadata": {},
   "outputs": [
    {
     "name": "stdout",
     "output_type": "stream",
     "text": [
      "too low\n",
      "too low\n",
      "too low\n",
      "too low\n",
      "too low\n",
      "found it!\n"
     ]
    }
   ],
   "source": [
    "guess_me = 5\n",
    "\n",
    "for number in (range(10)):\n",
    "    if(9<guess_me):\n",
    "        print(\"oops\")\n",
    "        break\n",
    "    elif(number<guess_me):\n",
    "        print(\"too low\")\n",
    "    elif(number==guess_me):\n",
    "        print(\"found it!\")\n",
    "        break\n",
    "   "
   ]
  }
 ],
 "metadata": {
  "kernelspec": {
   "display_name": "Python 3 (ipykernel)",
   "language": "python",
   "name": "python3"
  },
  "language_info": {
   "codemirror_mode": {
    "name": "ipython",
    "version": 3
   },
   "file_extension": ".py",
   "mimetype": "text/x-python",
   "name": "python",
   "nbconvert_exporter": "python",
   "pygments_lexer": "ipython3",
   "version": "3.9.12"
  }
 },
 "nbformat": 4,
 "nbformat_minor": 2
}
